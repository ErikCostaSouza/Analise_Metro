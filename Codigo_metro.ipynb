{
 "cells": [
  {
   "cell_type": "code",
   "execution_count": 169,
   "metadata": {
    "collapsed": true
   },
   "outputs": [],
   "source": [
    "from wordcloud import WordCloud\n",
    "import matplotlib.pyplot as plt\n",
    "import pandas as pd\n",
    "import nltk\n",
    "%matplotlib inline\n",
    "import numpy as np"
   ]
  },
  {
   "cell_type": "code",
   "execution_count": 170,
   "metadata": {},
   "outputs": [],
   "source": [
    "base_treinamento = [('metro esta vazio','metro bom'),\n",
    "                    ('hoje o metro está gelado','metro bom'),\n",
    "                    ('hoje o metro está bom','metro bom'),\n",
    "    ('hoje só demorei 20 minutos de metro','metro bom'),\n",
    "    ('pega o metrô lotado','metro ruim'),\n",
    "('não tem ar condicionado','metro ruim'),\n",
    "('morrer asfixiado','metro ruim'),\n",
    "(' já desci de dois carros porque está sem ar','metro ruim'),\n",
    "('QUE DEMORA DA PORRA','metro ruim'),\n",
    "('Metrô vazio esse horário','metro bom'),\n",
    "('Pelo menos o ar condicionado do metro está on point','metro bom'),\n",
    "('hoje está impossível de entrar no metro','metro ruim'),\n",
    "('O que está acontecendo com o metrô hj Sem condições','metro ruim'),\n",
    "('metro lento','metro ruim'),\n",
    "('Parando toda hora','metro ruim'),\n",
    "('tem uma mulher aqui no metrô muito engraçada kkkk, tô rindo muito das histórias que ela está contando','metro bom'),\n",
    "('seu filho da puta vem ver essa superlotação no metro caralho resolve esta merda','metro ruim'),\n",
    "('O metrô está uma uva hoje graças a Deus','metro bom'),\n",
    "('metro geladinho','metro bom'),\n",
    "('metrô está com problemas','metro ruim'),\n",
    "('metrô está uma lentidão','metro ruim'),\n",
    "('vcs está de brincadeira com o USUÁRIOS  né o que está acontecendo que essa droga de metrô não sai da estação Bresser sentido ITAQUERA seus LIXOS incopetentes','metro ruim'),\n",
    "('MEUS queridos o metrô já está com velocidade reduzida e vocês não ligam esse ar condicionado com vários usuários dentro? ME AJUDA A TE AJUDAR','metro ruim'),\n",
    "('E o metrô q está em greve e eu não tenho como sair da Barra Funda RISOS','metro ruim'),\n",
    "('mas o metrô não está colaborando','metro ruim'),\n",
    "('Hoje o metrô está melhor do que os outros dias, obrigada @Deus','metro bom'),\n",
    "('Metrô hoje está de marola só pode','metro ruim'),\n",
    "('metrô está vazio','metro bom'),\n",
    "('O metrô ainda está parado!','metro ruim'),\n",
    "('a roupa que eu estou amarrota atoa, e eu vim toda espremida no metro que minha roupa chega está toda amassada','metro ruim'),\n",
    "('Metrô hj está perfeito','metro bom'),\n",
    "('Só para avisar, pessoal, metrô tá parado. As conexões com a CPTM estão fechadas, há avisos nas estações.','metro ruim'),\n",
    "('Metro logo cedo já está com problema','metro ruim'),\n",
    "('Os passageiros estão com dificuldade para embarcar no metrô nesta manhã. O sistema está operando com lentidão e não há previsão para solucionar o problema. Ouvintes relatam que os trens ficaram parados na estação por mais de 30 minutos e seguiram em baixa velocidade.','metro ruim')\n",
    "]"
   ]
  },
  {
   "cell_type": "code",
   "execution_count": 171,
   "metadata": {
    "collapsed": true
   },
   "outputs": [],
   "source": [
    "\n",
    "#\n",
    "#text = str(exemplo_treinamento['tweets'])\n",
    "#wordcloud = WordCloud(max_font_size=100,width = 1520, height = 535).generate(text)\n",
    "#plt.figure(figsize=(19,19))\n",
    "#plt.imshow(wordcloud)\n",
    "#plt.axis(\"off\")\n",
    "#plt.show()\n"
   ]
  },
  {
   "cell_type": "code",
   "execution_count": 172,
   "metadata": {},
   "outputs": [],
   "source": [
    "exemplo_treinamento = pd.DataFrame(base_treinamento)\n",
    "exemplo_treinamento.columns =['tweets','Sentimento']"
   ]
  },
  {
   "cell_type": "code",
   "execution_count": 173,
   "metadata": {},
   "outputs": [
    {
     "name": "stdout",
     "output_type": "stream",
     "text": [
      "metro ruim    64.705882\n",
      "metro bom     35.294118\n",
      "Name: Sentimento, dtype: float64\n"
     ]
    }
   ],
   "source": [
    "#tentar deixar isso equilibrado\n",
    "print((exemplo_treinamento.Sentimento.value_counts() / exemplo_treinamento.shape[0]) *100)"
   ]
  },
  {
   "cell_type": "code",
   "execution_count": 174,
   "metadata": {
    "collapsed": true
   },
   "outputs": [],
   "source": [
    "## usar o stopWords para limpar \n",
    "stop_words = nltk.corpus.stopwords.words('portuguese')\n",
    "def removerStopWords (texto):\n",
    "    frases=[]\n",
    "    for (tweets,sentimento) in texto:\n",
    "        #criar list de comprheension para extrair apenas tweets que não estão na lista stopwords\n",
    "        semStop = [i for i  in tweets.split() if i not in stop_words ]\n",
    "        # inserindo as frases com os sentimentos ja tratados \n",
    "        frases.append ((semStop,sentimento))\n",
    "    return frases\n",
    "        \n"
   ]
  },
  {
   "cell_type": "code",
   "execution_count": 175,
   "metadata": {},
   "outputs": [],
   "source": [
    "def aplica_stemmer (texto):\n",
    "    stemmer = nltk.stem.RSLPStemmer()\n",
    "    #RSLPSTemmer especifico da ling portuguesa\n",
    "    frases_sem_Stemming =[]\n",
    "    for (tweets, sentimento) in texto:\n",
    "        com_Stemming = [str(stemmer.stem(i)) for i in tweets.split() if i not in stop_words]\n",
    "        frases_sem_Stemming.append((com_Stemming,sentimento))\n",
    "    return frases_sem_Stemming\n",
    "        "
   ]
  },
  {
   "cell_type": "code",
   "execution_count": 176,
   "metadata": {},
   "outputs": [
    {
     "data": {
      "text/html": [
       "<div>\n",
       "<style>\n",
       "    .dataframe thead tr:only-child th {\n",
       "        text-align: right;\n",
       "    }\n",
       "\n",
       "    .dataframe thead th {\n",
       "        text-align: left;\n",
       "    }\n",
       "\n",
       "    .dataframe tbody tr th {\n",
       "        vertical-align: top;\n",
       "    }\n",
       "</style>\n",
       "<table border=\"1\" class=\"dataframe\">\n",
       "  <thead>\n",
       "    <tr style=\"text-align: right;\">\n",
       "      <th></th>\n",
       "      <th>Frase</th>\n",
       "      <th>Sentimento</th>\n",
       "    </tr>\n",
       "  </thead>\n",
       "  <tbody>\n",
       "    <tr>\n",
       "      <th>0</th>\n",
       "      <td>[metr, vazi]</td>\n",
       "      <td>metro bom</td>\n",
       "    </tr>\n",
       "    <tr>\n",
       "      <th>1</th>\n",
       "      <td>[hoj, metr, gel]</td>\n",
       "      <td>metro bom</td>\n",
       "    </tr>\n",
       "    <tr>\n",
       "      <th>2</th>\n",
       "      <td>[hoj, metr, bom]</td>\n",
       "      <td>metro bom</td>\n",
       "    </tr>\n",
       "    <tr>\n",
       "      <th>3</th>\n",
       "      <td>[hoj, demor, 20, minut, metr]</td>\n",
       "      <td>metro bom</td>\n",
       "    </tr>\n",
       "    <tr>\n",
       "      <th>4</th>\n",
       "      <td>[peg, metrô, lot]</td>\n",
       "      <td>metro ruim</td>\n",
       "    </tr>\n",
       "    <tr>\n",
       "      <th>5</th>\n",
       "      <td>[ar, condicion]</td>\n",
       "      <td>metro ruim</td>\n",
       "    </tr>\n",
       "    <tr>\n",
       "      <th>6</th>\n",
       "      <td>[morr, asfixi]</td>\n",
       "      <td>metro ruim</td>\n",
       "    </tr>\n",
       "    <tr>\n",
       "      <th>7</th>\n",
       "      <td>[desc, doi, carr, porqu, ar]</td>\n",
       "      <td>metro ruim</td>\n",
       "    </tr>\n",
       "    <tr>\n",
       "      <th>8</th>\n",
       "      <td>[que, dem, da, porr]</td>\n",
       "      <td>metro ruim</td>\n",
       "    </tr>\n",
       "    <tr>\n",
       "      <th>9</th>\n",
       "      <td>[metrô, vazi, hor]</td>\n",
       "      <td>metro bom</td>\n",
       "    </tr>\n",
       "    <tr>\n",
       "      <th>10</th>\n",
       "      <td>[pel, menos, ar, condicion, metr, on, point]</td>\n",
       "      <td>metro bom</td>\n",
       "    </tr>\n",
       "    <tr>\n",
       "      <th>11</th>\n",
       "      <td>[hoj, imposs, entr, metr]</td>\n",
       "      <td>metro ruim</td>\n",
       "    </tr>\n",
       "    <tr>\n",
       "      <th>12</th>\n",
       "      <td>[o, acontec, metrô, hj, sem, cond]</td>\n",
       "      <td>metro ruim</td>\n",
       "    </tr>\n",
       "    <tr>\n",
       "      <th>13</th>\n",
       "      <td>[metr, lent]</td>\n",
       "      <td>metro ruim</td>\n",
       "    </tr>\n",
       "    <tr>\n",
       "      <th>14</th>\n",
       "      <td>[par, tod, hor]</td>\n",
       "      <td>metro ruim</td>\n",
       "    </tr>\n",
       "    <tr>\n",
       "      <th>15</th>\n",
       "      <td>[mulh, aqu, metrô, engraç, kkkk,, tô, rind, hi...</td>\n",
       "      <td>metro bom</td>\n",
       "    </tr>\n",
       "    <tr>\n",
       "      <th>16</th>\n",
       "      <td>[filh, put, vem, ver, superlot, metr, caralh, ...</td>\n",
       "      <td>metro ruim</td>\n",
       "    </tr>\n",
       "    <tr>\n",
       "      <th>17</th>\n",
       "      <td>[o, metrô, uva, hoj, graç, deu]</td>\n",
       "      <td>metro bom</td>\n",
       "    </tr>\n",
       "    <tr>\n",
       "      <th>18</th>\n",
       "      <td>[metr, gel]</td>\n",
       "      <td>metro bom</td>\n",
       "    </tr>\n",
       "    <tr>\n",
       "      <th>19</th>\n",
       "      <td>[metrô, problem]</td>\n",
       "      <td>metro ruim</td>\n",
       "    </tr>\n",
       "    <tr>\n",
       "      <th>20</th>\n",
       "      <td>[metrô, lent]</td>\n",
       "      <td>metro ruim</td>\n",
       "    </tr>\n",
       "    <tr>\n",
       "      <th>21</th>\n",
       "      <td>[vc, brinc, usu, né, acontec, drog, metrô, sai...</td>\n",
       "      <td>metro ruim</td>\n",
       "    </tr>\n",
       "    <tr>\n",
       "      <th>22</th>\n",
       "      <td>[meu, quer, metrô, veloc, reduz, lig, ar, cond...</td>\n",
       "      <td>metro ruim</td>\n",
       "    </tr>\n",
       "    <tr>\n",
       "      <th>23</th>\n",
       "      <td>[e, metrô, q, grev, sair, barr, fund, ris]</td>\n",
       "      <td>metro ruim</td>\n",
       "    </tr>\n",
       "    <tr>\n",
       "      <th>24</th>\n",
       "      <td>[metrô, colabor]</td>\n",
       "      <td>metro ruim</td>\n",
       "    </tr>\n",
       "    <tr>\n",
       "      <th>25</th>\n",
       "      <td>[hoj, metrô, melhor, outr, dias,, obrig, @deu]</td>\n",
       "      <td>metro bom</td>\n",
       "    </tr>\n",
       "    <tr>\n",
       "      <th>26</th>\n",
       "      <td>[metrô, hoj, marol, pod]</td>\n",
       "      <td>metro ruim</td>\n",
       "    </tr>\n",
       "    <tr>\n",
       "      <th>27</th>\n",
       "      <td>[metrô, vazi]</td>\n",
       "      <td>metro bom</td>\n",
       "    </tr>\n",
       "    <tr>\n",
       "      <th>28</th>\n",
       "      <td>[o, metrô, aind, parado!]</td>\n",
       "      <td>metro ruim</td>\n",
       "    </tr>\n",
       "    <tr>\n",
       "      <th>29</th>\n",
       "      <td>[roup, amarrot, atoa,, vim, tod, esprem, metr,...</td>\n",
       "      <td>metro ruim</td>\n",
       "    </tr>\n",
       "    <tr>\n",
       "      <th>30</th>\n",
       "      <td>[metrô, hj, perfeit]</td>\n",
       "      <td>metro bom</td>\n",
       "    </tr>\n",
       "    <tr>\n",
       "      <th>31</th>\n",
       "      <td>[só, avisar,, pessoal,, metrô, tá, parado., as...</td>\n",
       "      <td>metro ruim</td>\n",
       "    </tr>\n",
       "    <tr>\n",
       "      <th>32</th>\n",
       "      <td>[metr, log, ced, problem]</td>\n",
       "      <td>metro ruim</td>\n",
       "    </tr>\n",
       "    <tr>\n",
       "      <th>33</th>\n",
       "      <td>[os, passag, dificuldad, embarc, metrô, nest, ...</td>\n",
       "      <td>metro ruim</td>\n",
       "    </tr>\n",
       "  </tbody>\n",
       "</table>\n",
       "</div>"
      ],
      "text/plain": [
       "                                                Frase  Sentimento\n",
       "0                                        [metr, vazi]   metro bom\n",
       "1                                    [hoj, metr, gel]   metro bom\n",
       "2                                    [hoj, metr, bom]   metro bom\n",
       "3                       [hoj, demor, 20, minut, metr]   metro bom\n",
       "4                                   [peg, metrô, lot]  metro ruim\n",
       "5                                     [ar, condicion]  metro ruim\n",
       "6                                      [morr, asfixi]  metro ruim\n",
       "7                        [desc, doi, carr, porqu, ar]  metro ruim\n",
       "8                                [que, dem, da, porr]  metro ruim\n",
       "9                                  [metrô, vazi, hor]   metro bom\n",
       "10       [pel, menos, ar, condicion, metr, on, point]   metro bom\n",
       "11                          [hoj, imposs, entr, metr]  metro ruim\n",
       "12                 [o, acontec, metrô, hj, sem, cond]  metro ruim\n",
       "13                                       [metr, lent]  metro ruim\n",
       "14                                    [par, tod, hor]  metro ruim\n",
       "15  [mulh, aqu, metrô, engraç, kkkk,, tô, rind, hi...   metro bom\n",
       "16  [filh, put, vem, ver, superlot, metr, caralh, ...  metro ruim\n",
       "17                    [o, metrô, uva, hoj, graç, deu]   metro bom\n",
       "18                                        [metr, gel]   metro bom\n",
       "19                                   [metrô, problem]  metro ruim\n",
       "20                                      [metrô, lent]  metro ruim\n",
       "21  [vc, brinc, usu, né, acontec, drog, metrô, sai...  metro ruim\n",
       "22  [meu, quer, metrô, veloc, reduz, lig, ar, cond...  metro ruim\n",
       "23         [e, metrô, q, grev, sair, barr, fund, ris]  metro ruim\n",
       "24                                   [metrô, colabor]  metro ruim\n",
       "25     [hoj, metrô, melhor, outr, dias,, obrig, @deu]   metro bom\n",
       "26                           [metrô, hoj, marol, pod]  metro ruim\n",
       "27                                      [metrô, vazi]   metro bom\n",
       "28                          [o, metrô, aind, parado!]  metro ruim\n",
       "29  [roup, amarrot, atoa,, vim, tod, esprem, metr,...  metro ruim\n",
       "30                               [metrô, hj, perfeit]   metro bom\n",
       "31  [só, avisar,, pessoal,, metrô, tá, parado., as...  metro ruim\n",
       "32                          [metr, log, ced, problem]  metro ruim\n",
       "33  [os, passag, dificuldad, embarc, metrô, nest, ...  metro ruim"
      ]
     },
     "execution_count": 176,
     "metadata": {},
     "output_type": "execute_result"
    }
   ],
   "source": [
    "frases_com_stem_treinamento = aplica_stemmer(base_treinamento)\n",
    "frases_sem_stem_treinamento = base_treinamento\n",
    "pd.DataFrame(frases_com_stem_treinamento, columns =['Frase', 'Sentimento'])\n"
   ]
  },
  {
   "cell_type": "code",
   "execution_count": 177,
   "metadata": {
    "collapsed": true
   },
   "outputs": [],
   "source": [
    "def buscaPalavra(frase):\n",
    "    todasPalavras=[]\n",
    "    for(Frase,Sentimento) in frase:\n",
    "        todasPalavras.extend(Frase)\n",
    "    return todasPalavras"
   ]
  },
  {
   "cell_type": "code",
   "execution_count": 178,
   "metadata": {
    "collapsed": true
   },
   "outputs": [],
   "source": [
    "palavras_treinamento = buscaPalavra(frases_com_stem_treinamento)"
   ]
  },
  {
   "cell_type": "code",
   "execution_count": 179,
   "metadata": {},
   "outputs": [],
   "source": [
    "def busca_frequencia(palavras):\n",
    "    palavras =nltk.FreqDist(palavras)\n",
    "    return palavras"
   ]
  },
  {
   "cell_type": "code",
   "execution_count": 180,
   "metadata": {
    "collapsed": true
   },
   "outputs": [],
   "source": [
    "frequencia_treinamento = busca_frequencia(palavras_treinamento)"
   ]
  },
  {
   "cell_type": "code",
   "execution_count": 181,
   "metadata": {},
   "outputs": [],
   "source": [
    "#frequencia_treinamento.most_common(20)"
   ]
  },
  {
   "cell_type": "code",
   "execution_count": 182,
   "metadata": {},
   "outputs": [],
   "source": [
    "def buscar_palavras_unicas (frequencia):\n",
    "    freq = frequencia.keys()\n",
    "    return freq"
   ]
  },
  {
   "cell_type": "code",
   "execution_count": 183,
   "metadata": {
    "collapsed": true
   },
   "outputs": [],
   "source": [
    "palavras_unicas_treinamento= buscar_palavras_unicas(frequencia_treinamento)"
   ]
  },
  {
   "cell_type": "code",
   "execution_count": 184,
   "metadata": {
    "collapsed": true
   },
   "outputs": [],
   "source": [
    "def extrator_palavras (documento):\n",
    "    #set() se usa para associar a variavel doc com o parametro que está chegando\n",
    "    doc=set(documento)\n",
    "    caracteristica={}\n",
    "    for palavra in palavras_unicas_treinamento:\n",
    "        caracteristica['%s' %palavra] =(palavra in doc)\n",
    "    return caracteristica"
   ]
  },
  {
   "cell_type": "code",
   "execution_count": 166,
   "metadata": {},
   "outputs": [],
   "source": [
    "base_completa_treinamento=nltk.classify.apply_features(extrator_palavras,frases_com_stem_treinamento)"
   ]
  },
  {
   "cell_type": "code",
   "execution_count": 167,
   "metadata": {},
   "outputs": [],
   "source": [
    "classificador =nltk.NaiveBayesClassifier.train(base_completa_treinamento)"
   ]
  },
  {
   "cell_type": "code",
   "execution_count": 168,
   "metadata": {},
   "outputs": [
    {
     "name": "stdout",
     "output_type": "stream",
     "text": [
      "metro bom: 0.966241\n",
      "metro ruim: 0.033759\n"
     ]
    }
   ],
   "source": [
    "teste = 'hoje o metro está bom'\n",
    "testeStemming=[]\n",
    "stemmer= nltk.stem.RSLPStemmer()\n",
    "for (palavras_treinamento) in teste.split():\n",
    "    comStem =[p for p in palavras_treinamento.split()]\n",
    "    testeStemming.append(str(stemmer.stem(comStem[0])))\n",
    "novo = extrator_palavras(testeStemming)\n",
    "#print(classifcador)\n",
    "\n",
    "distribuicao =classificador.prob_classify(novo)\n",
    "\n",
    "for classe in distribuicao.samples():\n",
    "    print('%s: %f' %(classe,distribuicao.prob(classe)))\n"
   ]
  }
 ],
 "metadata": {
  "kernelspec": {
   "display_name": "Python 3",
   "language": "python",
   "name": "python3"
  },
  "language_info": {
   "codemirror_mode": {
    "name": "ipython",
    "version": 3
   },
   "file_extension": ".py",
   "mimetype": "text/x-python",
   "name": "python",
   "nbconvert_exporter": "python",
   "pygments_lexer": "ipython3",
   "version": "3.6.1"
  }
 },
 "nbformat": 4,
 "nbformat_minor": 2
}
